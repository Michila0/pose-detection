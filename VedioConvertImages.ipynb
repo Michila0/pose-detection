{
  "nbformat": 4,
  "nbformat_minor": 0,
  "metadata": {
    "colab": {
      "private_outputs": true,
      "provenance": [],
      "authorship_tag": "ABX9TyPFO1CFFa5u5OsZ6pd75KAa",
      "include_colab_link": true
    },
    "kernelspec": {
      "name": "python3",
      "display_name": "Python 3"
    },
    "language_info": {
      "name": "python"
    }
  },
  "cells": [
    {
      "cell_type": "markdown",
      "metadata": {
        "id": "view-in-github",
        "colab_type": "text"
      },
      "source": [
        "<a href=\"https://colab.research.google.com/github/Michila0/pose-detection/blob/main/VedioConvertImages.ipynb\" target=\"_parent\"><img src=\"https://colab.research.google.com/assets/colab-badge.svg\" alt=\"Open In Colab\"/></a>"
      ]
    },
    {
      "cell_type": "code",
      "source": [
        "from google.colab import drive\n",
        "drive.mount('/content/drive')"
      ],
      "metadata": {
        "id": "AGqIrA0VHfCt"
      },
      "execution_count": null,
      "outputs": []
    },
    {
      "cell_type": "markdown",
      "source": [
        "# Upload the Video to Google Colab"
      ],
      "metadata": {
        "id": "UuEqdmqMomrO"
      }
    },
    {
      "cell_type": "code",
      "source": [
        "from google.colab import files\n",
        "uploaded = files.upload()"
      ],
      "metadata": {
        "id": "hMfjYmL-okZb"
      },
      "execution_count": null,
      "outputs": []
    },
    {
      "cell_type": "markdown",
      "source": [
        "# Install Required Libraries"
      ],
      "metadata": {
        "id": "BrgHZGQ_qT6u"
      }
    },
    {
      "cell_type": "code",
      "source": [
        "!pip install opencv-python"
      ],
      "metadata": {
        "id": "1bYAzSG4oXyD"
      },
      "execution_count": null,
      "outputs": []
    },
    {
      "cell_type": "markdown",
      "source": [
        "# Extract Frames from the Video"
      ],
      "metadata": {
        "id": "w3b6aQ31qXuc"
      }
    },
    {
      "cell_type": "code",
      "execution_count": null,
      "metadata": {
        "id": "v6C5VnYDnAFT"
      },
      "outputs": [],
      "source": [
        "import cv2\n",
        "import os\n",
        "from google.colab.patches import cv2_imshow\n",
        "\n",
        "# Load the video\n",
        "video_path = list(uploaded.keys())[0]  # Get the uploaded video file name\n",
        "cap = cv2.VideoCapture(video_path)\n",
        "\n",
        "# Create a folder to save extracted images\n",
        "image_save_folder = \"extracted_images\"\n",
        "if not os.path.exists(image_save_folder):\n",
        "    os.makedirs(image_save_folder)\n",
        "\n",
        "# Extract frames\n",
        "frame_count = 0\n",
        "while cap.isOpened():\n",
        "    ret, frame = cap.read()\n",
        "    if not ret:\n",
        "        break\n",
        "\n",
        "    # Save every nth frame\n",
        "    if frame_count % 1 == 0:\n",
        "        image_path = os.path.join(image_save_folder, f\"frame_{frame_count}.jpg\")\n",
        "        cv2.imwrite(image_path, frame)\n",
        "        print(f\"Saved {image_path}\")\n",
        "\n",
        "    frame_count += 1\n",
        "\n",
        "cap.release()\n",
        "print(f\"Extracted {frame_count} frames.\")"
      ]
    },
    {
      "cell_type": "markdown",
      "source": [
        "#  View Extracted Images"
      ],
      "metadata": {
        "id": "dHvnJBb9vh0y"
      }
    },
    {
      "cell_type": "code",
      "source": [
        "import matplotlib.pyplot as plt\n",
        "import os\n",
        "\n",
        "# List all extracted images\n",
        "image_files = os.listdir(image_save_folder)\n",
        "\n",
        "# Display the first few images\n",
        "for i, image_file in enumerate(image_files[:5]):  # Display first 5 images\n",
        "    image_path = os.path.join(image_save_folder, image_file)\n",
        "    image = cv2.imread(image_path)\n",
        "    plt.figure(figsize=(10, 5))\n",
        "    plt.imshow(cv2.cvtColor(image, cv2.COLOR_BGR2RGB))\n",
        "    plt.title(image_file)\n",
        "    plt.axis('off')\n",
        "    plt.show()"
      ],
      "metadata": {
        "id": "CK9a60tLvnjM"
      },
      "execution_count": null,
      "outputs": []
    },
    {
      "cell_type": "markdown",
      "source": [
        "# Pose Estimation + Motion Analysis\n",
        "This method uses pose estimation to track the batsman's body joints and analyzes their motion to detect batting actions."
      ],
      "metadata": {
        "id": "wam2uXpdqyvd"
      }
    },
    {
      "cell_type": "markdown",
      "source": [
        "## Install Libaries"
      ],
      "metadata": {
        "id": "C9ottF0prrpl"
      }
    },
    {
      "cell_type": "code",
      "source": [
        "!pip install mediapipe opencv-python numpy matplotlib"
      ],
      "metadata": {
        "id": "qAyUSoXpsQVB"
      },
      "execution_count": null,
      "outputs": []
    },
    {
      "cell_type": "code",
      "source": [
        "!pip uninstall mediapipe -y # uninstall existing mediapipe\n",
        "!pip install mediapipe==0.10.20 # install specific version"
      ],
      "metadata": {
        "id": "lJ_BvYhJja_U"
      },
      "execution_count": null,
      "outputs": []
    },
    {
      "cell_type": "markdown",
      "source": [
        "## Detect Batting Pose with MediaPipe\n",
        "Use MediaPipe to track the batsman's body joints(e.g: arms, shoulders, wrists) and analyze their movement over time.\n"
      ],
      "metadata": {
        "id": "Z91so0xgsvvn"
      }
    },
    {
      "cell_type": "code",
      "source": [
        "import cv2\n",
        "import numpy as np\n",
        "import mediapipe as mp\n",
        "import matplotlib.pyplot as plt\n",
        "import os\n",
        "\n",
        "#Initialize MediaPipe Pose\n",
        "mp_pose = mp.solutions.pose\n",
        "pose = mp_pose.Pose(static_image_mode=False, min_detection_confidence=0.5)\n",
        "\n",
        "# Process frames from the extracted images folder\n",
        "image_save_folder = \"extracted_images\"\n",
        "image_files = sorted(os.listdir(image_save_folder))\n",
        "\n",
        "# Store joint angles or positions\n",
        "batting_frames = []\n",
        "\n",
        "for image_file in image_files:\n",
        "    image_path = os.path.join(image_save_folder, image_file)\n",
        "    frame = cv2.imread(image_path)\n",
        "    frame_rgb = cv2.cvtColor(frame, cv2.COLOR_BGR2RGB)\n",
        "\n",
        "    # Detect pose\n",
        "    results = pose.process(frame_rgb)\n",
        "\n",
        "    if results.pose_landmarks:\n",
        "        # Extract key joints (e.g., right wrist, left wrist, shoulders)\n",
        "        landmarks = results.pose_landmarks.landmark\n",
        "        right_wrist = [landmarks[mp_pose.PoseLandmark.RIGHT_WRIST.value].x,\n",
        "                       landmarks[mp_pose.PoseLandmark.RIGHT_WRIST.value].y]\n",
        "        left_wrist = [landmarks[mp_pose.PoseLandmark.LEFT_WRIST.value].x,\n",
        "                      landmarks[mp_pose.PoseLandmark.LEFT_WRIST.value].y]\n",
        "\n",
        "        # Calculate bat swing angle (example logic)\n",
        "        angle = np.arctan2(right_wrist[1] - left_wrist[1], right_wrist[0] - left_wrist[0])\n",
        "\n",
        "        # Detect swing (threshold-based)\n",
        "        if abs(angle) > 1.5:  # Adjust based on your video\n",
        "            batting_frames.append(image_file)\n",
        "            print(f\"Batting action detected in {image_file}\")\n",
        "\n",
        "pose.close()"
      ],
      "metadata": {
        "id": "ri4wmdFRtUFS"
      },
      "execution_count": null,
      "outputs": []
    },
    {
      "cell_type": "markdown",
      "source": [
        "## Visualize Batting Action\n",
        "Plot frames where batting is detected:"
      ],
      "metadata": {
        "id": "hl5TMSuqwZ7j"
      }
    },
    {
      "cell_type": "code",
      "source": [
        "for batting_frame in batting_frames[:3]:  # Show first 3 detected frames\n",
        "    image_path = os.path.join(image_save_folder, batting_frame)\n",
        "    image = cv2.imread(image_path)\n",
        "    plt.figure(figsize=(10, 5))\n",
        "    plt.imshow(cv2.cvtColor(image, cv2.COLOR_BGR2RGB))\n",
        "    plt.title(\"Batting Action\")\n",
        "    plt.axis('off')\n",
        "    plt.show()"
      ],
      "metadata": {
        "id": "ZEOmt5TcwqME"
      },
      "execution_count": null,
      "outputs": []
    }
  ]
}