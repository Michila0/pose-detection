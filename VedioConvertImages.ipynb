{
  "nbformat": 4,
  "nbformat_minor": 0,
  "metadata": {
    "colab": {
      "private_outputs": true,
      "provenance": [],
      "authorship_tag": "ABX9TyNg9nfOA4Z4w2FDmGpgY/ab",
      "include_colab_link": true
    },
    "kernelspec": {
      "name": "python3",
      "display_name": "Python 3"
    },
    "language_info": {
      "name": "python"
    }
  },
  "cells": [
    {
      "cell_type": "markdown",
      "metadata": {
        "id": "view-in-github",
        "colab_type": "text"
      },
      "source": [
        "<a href=\"https://colab.research.google.com/github/Michila0/pose-detection/blob/main/VedioConvertImages.ipynb\" target=\"_parent\"><img src=\"https://colab.research.google.com/assets/colab-badge.svg\" alt=\"Open In Colab\"/></a>"
      ]
    },
    {
      "cell_type": "code",
      "source": [
        "from google.colab import drive\n",
        "drive.mount('/content/drive')"
      ],
      "metadata": {
        "id": "AGqIrA0VHfCt"
      },
      "execution_count": null,
      "outputs": []
    },
    {
      "cell_type": "markdown",
      "source": [
        "# Upload the Video to Google Colab"
      ],
      "metadata": {
        "id": "UuEqdmqMomrO"
      }
    },
    {
      "cell_type": "code",
      "source": [
        "from google.colab import files\n",
        "uploaded = files.upload()"
      ],
      "metadata": {
        "id": "hMfjYmL-okZb"
      },
      "execution_count": null,
      "outputs": []
    },
    {
      "cell_type": "markdown",
      "source": [
        "# Install Required Libraries"
      ],
      "metadata": {
        "id": "BrgHZGQ_qT6u"
      }
    },
    {
      "cell_type": "code",
      "source": [
        "!pip install opencv-python"
      ],
      "metadata": {
        "id": "1bYAzSG4oXyD"
      },
      "execution_count": null,
      "outputs": []
    },
    {
      "cell_type": "markdown",
      "source": [
        "# Extract Frames from the Video"
      ],
      "metadata": {
        "id": "w3b6aQ31qXuc"
      }
    },
    {
      "cell_type": "code",
      "execution_count": null,
      "metadata": {
        "id": "v6C5VnYDnAFT"
      },
      "outputs": [],
      "source": [
        "import cv2\n",
        "import os\n",
        "from google.colab.patches import cv2_imshow\n",
        "\n",
        "# Load the video\n",
        "video_path = list(uploaded.keys())[0]  # Get the uploaded video file name\n",
        "cap = cv2.VideoCapture(video_path)\n",
        "\n",
        "# Create a folder to save extracted images\n",
        "image_save_folder = \"extracted_images\"\n",
        "if not os.path.exists(image_save_folder):\n",
        "    os.makedirs(image_save_folder)\n",
        "\n",
        "# Extract frames\n",
        "frame_count = 0\n",
        "while cap.isOpened():\n",
        "    ret, frame = cap.read()\n",
        "    if not ret:\n",
        "        break\n",
        "\n",
        "    # Save every nth frame (e.g., every 30th frame)\n",
        "    if frame_count % 30 == 0:\n",
        "        image_path = os.path.join(image_save_folder, f\"frame_{frame_count}.jpg\")\n",
        "        cv2.imwrite(image_path, frame)\n",
        "        print(f\"Saved {image_path}\")\n",
        "\n",
        "    frame_count += 1\n",
        "\n",
        "cap.release()\n",
        "print(f\"Extracted {frame_count} frames.\")"
      ]
    },
    {
      "cell_type": "markdown",
      "source": [
        "#  View Extracted Images"
      ],
      "metadata": {
        "id": "dHvnJBb9vh0y"
      }
    },
    {
      "cell_type": "code",
      "source": [
        "import matplotlib.pyplot as plt\n",
        "import os\n",
        "\n",
        "# List all extracted images\n",
        "image_files = os.listdir(image_save_folder)\n",
        "\n",
        "# Display the first few images\n",
        "for i, image_file in enumerate(image_files[:5]):  # Display first 5 images\n",
        "    image_path = os.path.join(image_save_folder, image_file)\n",
        "    image = cv2.imread(image_path)\n",
        "    plt.figure(figsize=(10, 5))\n",
        "    plt.imshow(cv2.cvtColor(image, cv2.COLOR_BGR2RGB))\n",
        "    plt.title(image_file)\n",
        "    plt.axis('off')\n",
        "    plt.show()"
      ],
      "metadata": {
        "id": "CK9a60tLvnjM"
      },
      "execution_count": null,
      "outputs": []
    }
  ]
}