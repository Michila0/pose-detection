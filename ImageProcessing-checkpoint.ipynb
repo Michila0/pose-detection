{
 "cells": [
  {
   "cell_type": "markdown",
   "id": "0a8d7251-377c-4b0a-a085-f96d9fab5f17",
   "metadata": {},
   "source": [
    "# Image Processing with OpenCV and Python\n"
   ]
  },
  {
   "cell_type": "code",
   "id": "10ba4c12-3c42-4a51-913f-8032ac9b4d11",
   "metadata": {
    "ExecuteTime": {
     "end_time": "2024-11-10T20:43:41.780828Z",
     "start_time": "2024-11-10T20:43:39.033109Z"
    }
   },
   "source": [
    "import pandas as pd\n",
    "import numpy as np\n",
    "\n",
    "from glob import glob\n",
    "\n",
    "import cv2\n",
    "import matplotlib.pylab as plt"
   ],
   "outputs": [],
   "execution_count": 1
  },
  {
   "cell_type": "markdown",
   "id": "8d940919-3f49-4675-950c-0631b4ab564c",
   "metadata": {},
   "source": [
    "# Reading in Images"
   ]
  },
  {
   "cell_type": "code",
   "id": "eb1253f7-de52-4a07-bd45-54ff8f892189",
   "metadata": {
    "ExecuteTime": {
     "end_time": "2024-11-10T21:26:23.672987Z",
     "start_time": "2024-11-10T21:26:23.655086Z"
    }
   },
   "source": [
    "drive_files = glob ('./images/data/drive/*.png')\n",
    "pullshot_files = glob ('./images/data/pullshot/*.png')"
   ],
   "outputs": [],
   "execution_count": 46
  },
  {
   "metadata": {
    "ExecuteTime": {
     "end_time": "2024-11-11T00:36:45.217267Z",
     "start_time": "2024-11-11T00:36:45.191804Z"
    }
   },
   "cell_type": "code",
   "source": [
    "img_mpl = plt.imread(drive_files[20])\n",
    "img_cv2 = cv2.imread(drive_files[20])\n",
    "img_mpl.shape, img_cv2.shape"
   ],
   "id": "285c27fc8498d340",
   "outputs": [
    {
     "data": {
      "text/plain": [
       "((260, 194, 4), (260, 194, 3))"
      ]
     },
     "execution_count": 70,
     "metadata": {},
     "output_type": "execute_result"
    }
   ],
   "execution_count": 70
  },
  {
   "metadata": {
    "ExecuteTime": {
     "end_time": "2024-11-11T01:00:12.402177Z",
     "start_time": "2024-11-11T01:00:12.388333Z"
    }
   },
   "cell_type": "code",
   "source": [
    "# get the Pixel Number\n",
    "print(img_mpl)"
   ],
   "id": "6f4417dda8b07812",
   "outputs": [
    {
     "name": "stdout",
     "output_type": "stream",
     "text": [
      "[[[1.         1.         1.         1.        ]\n",
      "  [1.         1.         1.         1.        ]\n",
      "  [1.         1.         1.         1.        ]\n",
      "  ...\n",
      "  [0.4        0.40784314 0.5411765  1.        ]\n",
      "  [0.49803922 0.50980395 0.63529414 1.        ]\n",
      "  [0.5803922  0.5921569  0.7176471  1.        ]]\n",
      "\n",
      " [[1.         1.         1.         1.        ]\n",
      "  [1.         1.         1.         1.        ]\n",
      "  [1.         1.         1.         1.        ]\n",
      "  ...\n",
      "  [0.5058824  0.5137255  0.627451   1.        ]\n",
      "  [0.6039216  0.62352943 0.7294118  1.        ]\n",
      "  [0.70980394 0.7294118  0.8352941  1.        ]]\n",
      "\n",
      " [[1.         1.         1.         1.        ]\n",
      "  [1.         1.         1.         1.        ]\n",
      "  [1.         1.         1.         1.        ]\n",
      "  ...\n",
      "  [0.62352943 0.61960787 0.7294118  1.        ]\n",
      "  [0.7058824  0.72156864 0.81960785 1.        ]\n",
      "  [0.81960785 0.8352941  0.93333334 1.        ]]\n",
      "\n",
      " ...\n",
      "\n",
      " [[0.9019608  1.         0.8        1.        ]\n",
      "  [0.8980392  1.         0.7921569  1.        ]\n",
      "  [0.9019608  1.         0.80784315 1.        ]\n",
      "  ...\n",
      "  [0.96862745 1.         0.92941177 1.        ]\n",
      "  [0.972549   1.         0.9372549  1.        ]\n",
      "  [0.9764706  1.         0.94509804 1.        ]]\n",
      "\n",
      " [[0.9254902  1.         0.84705883 1.        ]\n",
      "  [0.9607843  1.         0.9098039  1.        ]\n",
      "  [0.9607843  1.         0.9137255  1.        ]\n",
      "  ...\n",
      "  [0.93333334 1.         0.85882354 1.        ]\n",
      "  [0.9254902  1.         0.8509804  1.        ]\n",
      "  [0.92941177 1.         0.8509804  1.        ]]\n",
      "\n",
      " [[0.9882353  1.         0.9647059  1.        ]\n",
      "  [0.98039216 1.         0.95686275 1.        ]\n",
      "  [0.9843137  1.         0.95686275 1.        ]\n",
      "  ...\n",
      "  [0.93333334 1.         0.85490197 1.        ]\n",
      "  [0.9137255  1.         0.8235294  1.        ]\n",
      "  [0.90588236 1.         0.8117647  1.        ]]]\n"
     ]
    }
   ],
   "execution_count": 72
  },
  {
   "metadata": {
    "ExecuteTime": {
     "end_time": "2024-11-11T00:35:46.406133Z",
     "start_time": "2024-11-11T00:35:46.395618Z"
    }
   },
   "cell_type": "code",
   "source": "type(img_mpl)",
   "id": "a887bfcd9673eba8",
   "outputs": [
    {
     "data": {
      "text/plain": [
       "numpy.ndarray"
      ]
     },
     "execution_count": 69,
     "metadata": {},
     "output_type": "execute_result"
    }
   ],
   "execution_count": 69
  },
  {
   "metadata": {},
   "cell_type": "markdown",
   "source": [
    "## Image Array\n",
    "(Height, Width, Channels)\n",
    "\n",
    "<img src=\"https://miro.medium.com/v2/resize:fit:1400/1*MWiWZw5yUFGV80Ox2KEnZQ.png\" style=\"height:200px; width:600px;\" alt='imgpixels'/>"
   ],
   "id": "444c471c987d908e"
  },
  {
   "metadata": {
    "ExecuteTime": {
     "end_time": "2024-11-11T00:59:40.031125Z",
     "start_time": "2024-11-11T00:59:39.993678Z"
    }
   },
   "cell_type": "code",
   "source": "img_mpl.max()",
   "id": "5f2f99b9289e72b",
   "outputs": [
    {
     "data": {
      "text/plain": [
       "1.0"
      ]
     },
     "execution_count": 71,
     "metadata": {},
     "output_type": "execute_result"
    }
   ],
   "execution_count": 71
  },
  {
   "metadata": {
    "ExecuteTime": {
     "end_time": "2024-11-11T01:09:21.619221Z",
     "start_time": "2024-11-11T01:09:21.572996Z"
    }
   },
   "cell_type": "code",
   "source": [
    "# get the number(without pixel number, 0 to 1)\n",
    "img_mpl / 255"
   ],
   "id": "d84bd3bddc8a098f",
   "outputs": [
    {
     "data": {
      "text/plain": [
       "array([[[0.00392157, 0.00392157, 0.00392157, 0.00392157],\n",
       "        [0.00392157, 0.00392157, 0.00392157, 0.00392157],\n",
       "        [0.00392157, 0.00392157, 0.00392157, 0.00392157],\n",
       "        ...,\n",
       "        [0.00156863, 0.00159938, 0.00212226, 0.00392157],\n",
       "        [0.00195309, 0.00199923, 0.00249135, 0.00392157],\n",
       "        [0.00227605, 0.00232218, 0.0028143 , 0.00392157]],\n",
       "\n",
       "       [[0.00392157, 0.00392157, 0.00392157, 0.00392157],\n",
       "        [0.00392157, 0.00392157, 0.00392157, 0.00392157],\n",
       "        [0.00392157, 0.00392157, 0.00392157, 0.00392157],\n",
       "        ...,\n",
       "        [0.00198385, 0.00201461, 0.00246059, 0.00392157],\n",
       "        [0.00236832, 0.00244521, 0.00286044, 0.00392157],\n",
       "        [0.00278354, 0.00286044, 0.00327566, 0.00392157]],\n",
       "\n",
       "       [[0.00392157, 0.00392157, 0.00392157, 0.00392157],\n",
       "        [0.00392157, 0.00392157, 0.00392157, 0.00392157],\n",
       "        [0.00392157, 0.00392157, 0.00392157, 0.00392157],\n",
       "        ...,\n",
       "        [0.00244521, 0.00242983, 0.00286044, 0.00392157],\n",
       "        [0.00276817, 0.00282968, 0.00321415, 0.00392157],\n",
       "        [0.00321415, 0.00327566, 0.00366013, 0.00392157]],\n",
       "\n",
       "       ...,\n",
       "\n",
       "       [[0.0035371 , 0.00392157, 0.00313725, 0.00392157],\n",
       "        [0.00352172, 0.00392157, 0.0031065 , 0.00392157],\n",
       "        [0.0035371 , 0.00392157, 0.00316801, 0.00392157],\n",
       "        ...,\n",
       "        [0.00379854, 0.00392157, 0.00364475, 0.00392157],\n",
       "        [0.00381392, 0.00392157, 0.00367551, 0.00392157],\n",
       "        [0.0038293 , 0.00392157, 0.00370627, 0.00392157]],\n",
       "\n",
       "       [[0.00362937, 0.00392157, 0.0033218 , 0.00392157],\n",
       "        [0.00376778, 0.00392157, 0.00356786, 0.00392157],\n",
       "        [0.00376778, 0.00392157, 0.00358324, 0.00392157],\n",
       "        ...,\n",
       "        [0.00366013, 0.00392157, 0.00336794, 0.00392157],\n",
       "        [0.00362937, 0.00392157, 0.00333718, 0.00392157],\n",
       "        [0.00364475, 0.00392157, 0.00333718, 0.00392157]],\n",
       "\n",
       "       [[0.00387543, 0.00392157, 0.00378316, 0.00392157],\n",
       "        [0.00384468, 0.00392157, 0.0037524 , 0.00392157],\n",
       "        [0.00386005, 0.00392157, 0.0037524 , 0.00392157],\n",
       "        ...,\n",
       "        [0.00366013, 0.00392157, 0.00335256, 0.00392157],\n",
       "        [0.00358324, 0.00392157, 0.00322953, 0.00392157],\n",
       "        [0.00355248, 0.00392157, 0.00318339, 0.00392157]]], dtype=float32)"
      ]
     },
     "execution_count": 73,
     "metadata": {},
     "output_type": "execute_result"
    }
   ],
   "execution_count": 73
  },
  {
   "metadata": {
    "ExecuteTime": {
     "end_time": "2024-11-11T01:30:11.428916Z",
     "start_time": "2024-11-11T01:30:10.612713Z"
    }
   },
   "cell_type": "code",
   "source": "pd.Series(img_mpl.flatten()).plot(kind='hist', bins=50, title='Distribution of Pixel Values')",
   "id": "c825ded5d9dacb04",
   "outputs": [
    {
     "data": {
      "text/plain": [
       "<Axes: title={'center': 'Distribution of Pixel Values'}, ylabel='Frequency'>"
      ]
     },
     "execution_count": 75,
     "metadata": {},
     "output_type": "execute_result"
    },
    {
     "data": {
      "text/plain": [
       "<Figure size 640x480 with 1 Axes>"
      ],
      "image/png": "[encoded data removed]"
     },
     "metadata": {},
     "output_type": "display_data"
    }
   ],
   "execution_count": 75
  }
 ],
 "metadata": {
  "kernelspec": {
   "display_name": "Python 3 (ipykernel)",
   "language": "python",
   "name": "python3"
  },
  "language_info": {
   "codemirror_mode": {
    "name": "ipython",
    "version": 3
   },
   "file_extension": ".py",
   "mimetype": "text/x-python",
   "name": "python",
   "nbconvert_exporter": "python",
   "pygments_lexer": "ipython3",
   "version": "3.12.4"
  }
 },
 "nbformat": 4,
 "nbformat_minor": 5
}
